{
 "cells": [
  {
   "cell_type": "markdown",
   "metadata": {},
   "source": [
    "A Gaussian Mixture Model can be defined as a weighted sum of a set of different Gaussian distributions. For example, for three Gaussian clusters, the likelihood function is\n",
    "\n",
    "\\begin{equation}\n",
    "p(x|θ) = \\pi_{1}\\mathcal{N}(x|\\mu_1,\\Sigma_1) + \\pi_{2}\\mathcal{N}(x|\\mu_2,\\Sigma_2) + \\pi_{3}\\mathcal{N}(x|\\mu_3,\\Sigma_3)\n",
    "\\end{equation}\n",
    "\n",
    "This generalizes to\n",
    "\n",
    "\\begin{equation}\n",
    "p(x|θ) = \\sum_{k}^{K}\\pi_k \\mathcal{N}(x|\\mu_k, \\Sigma_k)\n",
    "\\end{equation}\n",
    "\n",
    "where $K$ is the number of underlying Gaussians. We are making the assumption that there is some latent variable $T$ that is generating the data:\n",
    "\n",
    "![here](latent.png)\n",
    "\n",
    "For example, there's three people who contributed their rating to a ratings database. $T$ here would represent which of the three people truly generated that rating:\n",
    "\n",
    "\\begin{equation}\n",
    "p(t=k | θ) = \\pi_k\n",
    "\\end{equation}\n",
    "\n",
    "Once we know which $k$ of the $K$ classes the underlying T variable came from, the distribution is now a simple Gaussian:\n",
    "\n",
    "\\begin{equation}\n",
    "p(x|θ, t=k) = \\mathcal{N}(x|\\mu_k, \\Sigma_k)\n",
    "\\end{equation}\n",
    "\n",
    "If we knew the parameters θ (the collection of $\\mu$ and $\\Sigma$), we can find the assignments of each data point:\n",
    "\n",
    "\\begin{equation}\n",
    "p(t=1|x,θ) = \\frac{p(x|t=1,θ)p(t=1|θ)}{Z}\n",
    "\\end{equation}"
   ]
  },
  {
   "cell_type": "markdown",
   "metadata": {},
   "source": [
    "# Expectation Maximization Algorithm\n",
    "\n",
    "1. Randomly generate a set of data points.\n",
    "2. Randomly initialize a cluster of K Gaussians for your data X."
   ]
  },
  {
   "cell_type": "code",
   "execution_count": 35,
   "metadata": {},
   "outputs": [],
   "source": [
    "data = uniform.rvs(0,5, size= 20)\n",
    "zeros = np.zeros(20)"
   ]
  },
  {
   "cell_type": "code",
   "execution_count": 38,
   "metadata": {},
   "outputs": [
    {
     "data": {
      "image/png": "[encoded data removed]",
      "text/plain": [
       "<matplotlib.figure.Figure at 0x114e11518>"
      ]
     },
     "metadata": {},
     "output_type": "display_data"
    }
   ],
   "source": [
    "% matplotlib inline\n",
    "from scipy.stats import beta, gamma, norm, uniform\n",
    "import numpy as np\n",
    "import matplotlib.pyplot as plt\n",
    "\n",
    "class GaussianDistribution:\n",
    "    \n",
    "    def __init__(self, μ, σ):\n",
    "        self.μ = μ\n",
    "        self.σ = σ\n",
    "    \n",
    "    def pdf(self, x):\n",
    "        return norm.pdf(x, self.μ, self.σ)\n",
    "    \n",
    "gaussian1 = GaussianDistribution(2,1)\n",
    "gaussian2 = GaussianDistribution(3,1)\n",
    "x = np.linspace(norm.ppf(0.01, gaussian.μ, gaussian.σ), norm.ppf(0.99, gaussian.μ, gaussian.σ))\n",
    "\n",
    "\n",
    "prior_plot = plt.plot(x, gaussian1.pdf(x))\n",
    "prior_plot = plt.plot(x, gaussian2.pdf(x))\n",
    "prior_plot = plt.scatter(data, zeros, color=\"gray\", alpha=0.8)"
   ]
  },
  {
   "cell_type": "markdown",
   "metadata": {},
   "source": [
    "For each data point, we now calculate the probability it came from each of the Gaussians:\n",
    "\n",
    "\\begin{equation}\n",
    "p(t = k | x_i,θ) = \\frac{p(x_i | t=k, \\mu_k, \\Sigma_k)}{\\sum_{j}^{K}p(x_i | t=j, \\mu_j, \\Sigma_j)}\n",
    "\\end{equation}"
   ]
  },
  {
   "cell_type": "code",
   "execution_count": 60,
   "metadata": {},
   "outputs": [],
   "source": [
    "data = np.sort(data)"
   ]
  },
  {
   "cell_type": "code",
   "execution_count": 61,
   "metadata": {},
   "outputs": [],
   "source": [
    "assignments = np.zeros(shape=(20,2))"
   ]
  },
  {
   "cell_type": "code",
   "execution_count": 67,
   "metadata": {},
   "outputs": [
    {
     "name": "stdout",
     "output_type": "stream",
     "text": [
      "x: 0.03 Assignment 1: 0.92, Assignment 2: 0.08\n",
      "x: 0.86 Assignment 1: 0.84, Assignment 2: 0.16\n",
      "x: 1.12 Assignment 1: 0.8, Assignment 2: 0.2\n",
      "x: 1.12 Assignment 1: 0.8, Assignment 2: 0.2\n",
      "x: 1.23 Assignment 1: 0.78, Assignment 2: 0.22\n",
      "x: 1.28 Assignment 1: 0.77, Assignment 2: 0.23\n",
      "x: 1.33 Assignment 1: 0.76, Assignment 2: 0.24\n",
      "x: 1.34 Assignment 1: 0.76, Assignment 2: 0.24\n",
      "x: 1.95 Assignment 1: 0.63, Assignment 2: 0.37\n",
      "x: 2.3 Assignment 1: 0.55, Assignment 2: 0.45\n",
      "x: 2.32 Assignment 1: 0.54, Assignment 2: 0.46\n",
      "x: 2.68 Assignment 1: 0.45, Assignment 2: 0.55\n",
      "x: 3.01 Assignment 1: 0.38, Assignment 2: 0.62\n",
      "x: 3.37 Assignment 1: 0.3, Assignment 2: 0.7\n",
      "x: 3.61 Assignment 1: 0.25, Assignment 2: 0.75\n",
      "x: 3.62 Assignment 1: 0.25, Assignment 2: 0.75\n",
      "x: 4.14 Assignment 1: 0.16, Assignment 2: 0.84\n",
      "x: 4.19 Assignment 1: 0.16, Assignment 2: 0.84\n",
      "x: 4.24 Assignment 1: 0.15, Assignment 2: 0.85\n",
      "x: 4.25 Assignment 1: 0.15, Assignment 2: 0.85\n"
     ]
    }
   ],
   "source": [
    "for i,x_i in enumerate(data):\n",
    "    assignment_1 = gaussian1.pdf(x_i) / (gaussian1.pdf(x_i) + gaussian2.pdf(x_i))\n",
    "    assignment_2 = gaussian2.pdf(x_i) / (gaussian1.pdf(x_i) + gaussian2.pdf(x_i))\n",
    "    print(f\"x: {round(x_i,2)} Assignment 1: {round(assignment_1,2)}, Assignment 2: {round(assignment_2,2)}\")\n",
    "    assignments[i,0] = assignment_1\n",
    "    assignments[i,1] = assignment_2"
   ]
  },
  {
   "cell_type": "code",
   "execution_count": null,
   "metadata": {},
   "outputs": [],
   "source": []
  }
 ],
 "metadata": {
  "kernelspec": {
   "display_name": "Python 3",
   "language": "python",
   "name": "python3"
  },
  "language_info": {
   "codemirror_mode": {
    "name": "ipython",
    "version": 3
   },
   "file_extension": ".py",
   "mimetype": "text/x-python",
   "name": "python",
   "nbconvert_exporter": "python",
   "pygments_lexer": "ipython3",
   "version": "3.6.3"
  }
 },
 "nbformat": 4,
 "nbformat_minor": 2
}
