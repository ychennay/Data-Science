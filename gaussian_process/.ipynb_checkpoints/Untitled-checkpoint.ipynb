{
 "cells": [
  {
   "cell_type": "code",
   "execution_count": null,
   "metadata": {},
   "outputs": [],
   "source": [
    "import numpy as np\n",
    "import matplotlib.pyplot as plt\n",
    "%matplotlib inline  "
   ]
  },
  {
   "cell_type": "code",
   "execution_count": null,
   "metadata": {},
   "outputs": [],
   "source": [
    "θ = 3\n",
    "bias = 100\n",
    "X = np.array([np.random.uniform(200,500) for i in range(500)])\n",
    "ε = np.array([np.random.normal(0,100) for i in range(500)])\n",
    "y = X * θ + bias + ε"
   ]
  },
  {
   "cell_type": "code",
   "execution_count": 205,
   "metadata": {},
   "outputs": [
    {
     "data": {
      "text/plain": [
       "Text(0,0.5,'Social Media Shares')"
      ]
     },
     "execution_count": 205,
     "metadata": {},
     "output_type": "execute_result"
    },
    {
     "data": {
      "image/png": "[encoded data removed]",
      "text/plain": [
       "<matplotlib.figure.Figure at 0x1136f3da0>"
      ]
     },
     "metadata": {},
     "output_type": "display_data"
    }
   ],
   "source": [
    "plt.scatter(X, y, alpha=0.5)\n",
    "plt.xlabel(\"$ Spent\")\n",
    "plt.ylabel(\"Social Media Shares\")"
   ]
  },
  {
   "cell_type": "code",
   "execution_count": null,
   "metadata": {},
   "outputs": [],
   "source": [
    "θ = 3\n",
    "bias = 100\n",
    "X = np.array([np.random.uniform(100,110) for i in range(500)])\n",
    "ε = np.array([np.random.normal(0,1) for i in range(500)])\n",
    "y = np.sin(X) * θ + bias + ε"
   ]
  },
  {
   "cell_type": "code",
   "execution_count": null,
   "metadata": {},
   "outputs": [],
   "source": [
    "plt.scatter(X, y, alpha=0.5)\n",
    "plt.xlabel(\"$ Spent\")\n",
    "plt.ylabel(\"Social Media Shares\")"
   ]
  },
  {
   "cell_type": "code",
   "execution_count": null,
   "metadata": {},
   "outputs": [],
   "source": [
    "X = np.range(10)"
   ]
  },
  {
   "cell_type": "code",
   "execution_count": 54,
   "metadata": {},
   "outputs": [
    {
     "data": {
      "text/plain": [
       "Text(0.5,1,'sin(x), with 100 samples and noise')"
      ]
     },
     "execution_count": 54,
     "metadata": {},
     "output_type": "execute_result"
    },
    {
     "data": {
      "image/png": "[encoded data removed]",
      "text/plain": [
       "<matplotlib.figure.Figure at 0x1103407f0>"
      ]
     },
     "metadata": {},
     "output_type": "display_data"
    }
   ],
   "source": [
    "X_sin = np.linspace(1,10,100)\n",
    "y_sin = np.sin(X_sin) + np.array([np.random.normal(0,0.2) for i in range(100)])\n",
    "plt.scatter(X_sin, y_sin, alpha= 0.7, c=\"orange\")\n",
    "plt.xlabel(\"X\")\n",
    "plt.ylabel(\"Y\")\n",
    "plt.title(\"sin(x), with 100 samples and noise\")"
   ]
  },
  {
   "cell_type": "code",
   "execution_count": 197,
   "metadata": {},
   "outputs": [
    {
     "data": {
      "text/plain": [
       "array([[ 0.]])"
      ]
     },
     "execution_count": 197,
     "metadata": {},
     "output_type": "execute_result"
    }
   ],
   "source": [
    "np.subtract.outer(x,x)"
   ]
  },
  {
   "cell_type": "code",
   "execution_count": 6,
   "metadata": {},
   "outputs": [],
   "source": [
    "class Kernel:\n",
    "    @staticmethod\n",
    "    def get(x_1, x_2):\n",
    "        return np.exp(-0.5 * np.subtract.outer(x_1, x_2) ** 2)"
   ]
  },
  {
   "cell_type": "code",
   "execution_count": 5,
   "metadata": {},
   "outputs": [],
   "source": [
    "def exponential_cov(x, y):\n",
    "    return np.exp( -0.5 * np.subtract.outer(x, y)**2)"
   ]
  },
  {
   "cell_type": "code",
   "execution_count": null,
   "metadata": {},
   "outputs": [],
   "source": [
    "exponential_cov(x_1, x).shape"
   ]
  },
  {
   "cell_type": "code",
   "execution_count": null,
   "metadata": {},
   "outputs": [],
   "source": [
    "x = np.array([0,1,2,2])\n",
    "Kernel.compute(x, x)"
   ]
  },
  {
   "cell_type": "code",
   "execution_count": null,
   "metadata": {},
   "outputs": [],
   "source": [
    "def conditional(x_new, x, y):\n",
    "    B = exponential_cov(x_new, x)\n",
    "    C = exponential_cov(x, x)\n",
    "    A = exponential_cov(x_new, x_new)\n",
    "    mu = np.linalg.inv(C).dot(B.T).T.dot(y)\n",
    "    sigma = A - B.dot(np.linalg.inv(C).dot(B.T))\n",
    "    return(mu.squeeze(), sigma.squeeze())\n"
   ]
  },
  {
   "cell_type": "code",
   "execution_count": null,
   "metadata": {},
   "outputs": [],
   "source": []
  },
  {
   "cell_type": "code",
   "execution_count": null,
   "metadata": {},
   "outputs": [],
   "source": [
    "x_new = np.array([1])\n",
    "x = np.array([2,3,4,5,6])\n",
    "\n",
    "find_conditional_mu()"
   ]
  },
  {
   "cell_type": "code",
   "execution_count": 6,
   "metadata": {},
   "outputs": [
    {
     "data": {
      "text/plain": [
       "<Container object of 3 artists>"
      ]
     },
     "execution_count": 6,
     "metadata": {},
     "output_type": "execute_result"
    },
    {
     "data": {
      "image/png": "[encoded data removed]",
      "text/plain": [
       "<matplotlib.figure.Figure at 0x10f4aee10>"
      ]
     },
     "metadata": {},
     "output_type": "display_data"
    }
   ],
   "source": [
    "θ = [1, 10]\n",
    "σ_0 = exponential_cov(0, 0)\n",
    "xpts = np.arange(-3, 3, step=0.01)\n",
    "plt.errorbar(xpts, np.zeros(len(xpts)), yerr=σ_0, capsize=0)"
   ]
  },
  {
   "cell_type": "code",
   "execution_count": 130,
   "metadata": {},
   "outputs": [],
   "source": []
  },
  {
   "cell_type": "code",
   "execution_count": 118,
   "metadata": {},
   "outputs": [
    {
     "name": "stdout",
     "output_type": "stream",
     "text": [
      "σ_1 is [[ 1.]]\n"
     ]
    }
   ],
   "source": [
    "σ_1 = exponential_cov(x, x)\n",
    "print(f\"σ_1 is {σ_1}\")\n",
    "def predict(x, data, kernel, sigma, t):\n",
    "    #print(f\"kernel between x ({x}) and y({y}) is {kernel(x, y)}\")\n",
    "    k = [kernel(x, y) for y in data]\n",
    "    Sinv = np.linalg.inv(sigma)\n",
    "    y_pred = np.dot(k, Sinv).dot(t)\n",
    "    #print(kernel(x, x))\n",
    "    #print(exponential_cov(x, x))\n",
    "    sigma_new = kernel(x, x) - np.dot(k, Sinv).dot(k)\n",
    "    return y_pred, sigma_new\n",
    "\n",
    "x_pred = np.linspace(-3, 3, 1000)\n",
    "predictions = [predict(i, x, exponential_cov, σ_1, y) for i in x_pred]"
   ]
  },
  {
   "cell_type": "code",
   "execution_count": 119,
   "metadata": {},
   "outputs": [],
   "source": [
    "def new_predict(x_new):\n",
    "    k_x_new_x = [Kernel.get(x_new, x_i) for x_i in X]\n",
    "    k_x_x = Kernel.get(X,X) # covariance matrix for existing training points\n",
    "    k_x_new_x_new = Kernel.get(x_new, x_new) # covariance matrix for new test points\n",
    "    y_pred = np.dot(k_x_new_x, np.linalg.inv(k_x_x)).dot(y) # Equation 2.23\n",
    "    updated_sigma = k_x_new_x_new - np.dot(k_x_new_x, np.linalg.inv(k_x_x)).dot(k_x_new_x) # Equation 2.24\n",
    "    return y_pred.squeeze(), updated_sigma.squeeze() "
   ]
  },
  {
   "cell_type": "code",
   "execution_count": 129,
   "metadata": {},
   "outputs": [
    {
     "data": {
      "text/plain": [
       "[<matplotlib.lines.Line2D at 0x1121594a8>]"
      ]
     },
     "execution_count": 129,
     "metadata": {},
     "output_type": "execute_result"
    },
    {
     "data": {
      "image/png": "[encoded data removed]",
      "text/plain": [
       "<matplotlib.figure.Figure at 0x112306f60>"
      ]
     },
     "metadata": {},
     "output_type": "display_data"
    }
   ],
   "source": [
    "y_pred, sigmas = np.transpose(predictions)\n",
    "plt.errorbar(x_pred, y_pred, yerr=sigmas, capsize=0)\n",
    "plt.plot(x, y, \"ro\")"
   ]
  },
  {
   "cell_type": "code",
   "execution_count": 88,
   "metadata": {},
   "outputs": [],
   "source": []
  },
  {
   "cell_type": "code",
   "execution_count": 142,
   "metadata": {},
   "outputs": [
    {
     "data": {
      "text/plain": [
       "Text(0.5,1,'GP Predictions Given Single Training Point (2.3, 0.922)')"
      ]
     },
     "execution_count": 142,
     "metadata": {},
     "output_type": "execute_result"
    },
    {
     "data": {
      "image/png": "[encoded data removed]",
      "text/plain": [
       "<matplotlib.figure.Figure at 0x1139af518>"
      ]
     },
     "metadata": {},
     "output_type": "display_data"
    }
   ],
   "source": [
    "x_pred = np.linspace(-1,5,100)\n",
    "predictions = [new_predict(i) for i in x_pred]\n",
    "# these next few lines are entirely from Chris Fonnesbeck's blog post at Domino Data Lab!\n",
    "y_pred, sigmas = np.transpose(predictions) \n",
    "plt.errorbar(x_pred, y_pred, yerr=sigmas, capsize=1)\n",
    "plt.plot(X, y, \"ro\")\n",
    "plt.title(\"GP Predictions Given Single Training Point (2.3, 0.922)\")"
   ]
  },
  {
   "cell_type": "code",
   "execution_count": 127,
   "metadata": {},
   "outputs": [],
   "source": []
  },
  {
   "cell_type": "code",
   "execution_count": 128,
   "metadata": {},
   "outputs": [
    {
     "data": {
      "text/plain": [
       "[<matplotlib.lines.Line2D at 0x111f9c198>]"
      ]
     },
     "execution_count": 128,
     "metadata": {},
     "output_type": "execute_result"
    },
    {
     "data": {
      "image/png": "[encoded data removed]",
      "text/plain": [
       "<matplotlib.figure.Figure at 0x111f9c2e8>"
      ]
     },
     "metadata": {},
     "output_type": "display_data"
    }
   ],
   "source": []
  },
  {
   "cell_type": "code",
   "execution_count": 62,
   "metadata": {},
   "outputs": [],
   "source": [
    "class GaussianProcess:\n",
    "    \n",
    "    def __init__(self, X, y):\n",
    "        self.X = X\n",
    "        self.y = y\n",
    "        \n",
    "    def update(self, x, y):\n",
    "        self.X.append(x)\n",
    "        self.y.append(y)\n",
    "    \n",
    "    def new_predict(self, x_new):\n",
    "        k_x_new_x = [Kernel.get(x_new, x_i) for x_i in self.X]\n",
    "        k_x_x = Kernel.get(self.X,self.X) # covariance matrix for existing training points\n",
    "        k_x_new_x_new = Kernel.get(x_new, x_new) # covariance matrix for new test points\n",
    "        y_pred = np.dot(k_x_new_x, np.linalg.inv(k_x_x)).dot(self.y) # Equation 2.23\n",
    "        updated_sigma = k_x_new_x_new - np.dot(k_x_new_x, np.linalg.inv(k_x_x)).dot(k_x_new_x) # Equation 2.24\n",
    "        return y_pred.squeeze(), updated_sigma.squeeze() \n",
    "    \n",
    "    def generate_predictions(self, prediction_interval):\n",
    "        predictions = [self.new_predict(i) for i in prediction_interval]\n",
    "        # these next few lines are entirely from Chris Fonnesbeck's blog post at Domino Data Lab!\n",
    "        y_pred, sigmas = np.transpose(predictions) \n",
    "        plt.errorbar(prediction_interval, y_pred, yerr=sigmas, capsize=1)\n",
    "        plt.plot(self.X, self.y, \"ro\")\n",
    "        plt.title(f\"GP Predictions Given {len(self.y)} Training Points (In Red)\")"
   ]
  },
  {
   "cell_type": "code",
   "execution_count": 8,
   "metadata": {},
   "outputs": [],
   "source": [
    "X = [2.3]\n",
    "y = [.922]\n",
    "gp = GaussianProcess(X, y)\n",
    "gp.update(2.4, .67)\n",
    "gp.update(3, 0)\n",
    "gp.update(-1,.5)\n",
    "gp.update(1,1.4)\n",
    "gp.update(0.2,.6)"
   ]
  },
  {
   "cell_type": "code",
   "execution_count": 9,
   "metadata": {},
   "outputs": [
    {
     "ename": "NameError",
     "evalue": "name 'x_pred' is not defined",
     "output_type": "error",
     "traceback": [
      "\u001b[0;31m---------------------------------------------------------------------------\u001b[0m",
      "\u001b[0;31mNameError\u001b[0m                                 Traceback (most recent call last)",
      "\u001b[0;32m<ipython-input-9-04388e484b0b>\u001b[0m in \u001b[0;36m<module>\u001b[0;34m()\u001b[0m\n\u001b[1;32m      1\u001b[0m \u001b[0;34m\u001b[0m\u001b[0m\n\u001b[0;32m----> 2\u001b[0;31m \u001b[0mgp\u001b[0m\u001b[0;34m.\u001b[0m\u001b[0mgenerate_predictions\u001b[0m\u001b[0;34m(\u001b[0m\u001b[0mx_pred\u001b[0m\u001b[0;34m)\u001b[0m\u001b[0;34m\u001b[0m\u001b[0m\n\u001b[0m",
      "\u001b[0;31mNameError\u001b[0m: name 'x_pred' is not defined"
     ]
    }
   ],
   "source": [
    "\n",
    "gp.generate_predictions(x_pred)"
   ]
  },
  {
   "cell_type": "code",
   "execution_count": 2,
   "metadata": {},
   "outputs": [
    {
     "ename": "NameError",
     "evalue": "name 'np' is not defined",
     "output_type": "error",
     "traceback": [
      "\u001b[0;31m---------------------------------------------------------------------------\u001b[0m",
      "\u001b[0;31mNameError\u001b[0m                                 Traceback (most recent call last)",
      "\u001b[0;32m<ipython-input-2-c4651e734e22>\u001b[0m in \u001b[0;36m<module>\u001b[0;34m()\u001b[0m\n\u001b[0;32m----> 1\u001b[0;31m \u001b[0mnp\u001b[0m\u001b[0;34m.\u001b[0m\u001b[0mrandom\u001b[0m\u001b[0;34m.\u001b[0m\u001b[0mshuffle\u001b[0m\u001b[0;34m(\u001b[0m\u001b[0mX_sin\u001b[0m\u001b[0;34m)\u001b[0m\u001b[0;34m\u001b[0m\u001b[0m\n\u001b[0m",
      "\u001b[0;31mNameError\u001b[0m: name 'np' is not defined"
     ]
    }
   ],
   "source": [
    "np.random.shuffle(X_sin)"
   ]
  },
  {
   "cell_type": "code",
   "execution_count": null,
   "metadata": {},
   "outputs": [],
   "source": [
    "prediction_interval = np.linspace(1,10,100)\n",
    "start = int(np.random.uniform(1,100))\n",
    "gp = GaussianProcess([X_sin[start]], [y_sin[start]])\n",
    "indices = range(len(prediction_interval))\n",
    "for i in range(15):\n",
    "    while start in visited:\n",
    "        start = np.random.choice(indices, replace=False)\n",
    "    visited.append(start)\n",
    "    gp.update(X_sin[start], y_sin[start])\n",
    "    \n",
    "gp.generate_predictions(prediction_interval)\n",
    "plt.scatter(X_sin, y_sin, c=\"orange\", alpha=0.8)"
   ]
  },
  {
   "cell_type": "code",
   "execution_count": 97,
   "metadata": {},
   "outputs": [
    {
     "data": {
      "text/plain": [
       "3.5454545454545454"
      ]
     },
     "execution_count": 97,
     "metadata": {},
     "output_type": "execute_result"
    }
   ],
   "source": [
    "X_sin[start]"
   ]
  },
  {
   "cell_type": "code",
   "execution_count": 216,
   "metadata": {},
   "outputs": [
    {
     "data": {
      "text/plain": [
       "array([ 0.74570521,  0.67546318,  0.14112001, -0.84147098,  0.84147098,\n",
       "        0.19866933])"
      ]
     },
     "execution_count": 216,
     "metadata": {},
     "output_type": "execute_result"
    }
   ],
   "source": [
    "y_sin"
   ]
  },
  {
   "cell_type": "code",
   "execution_count": null,
   "metadata": {},
   "outputs": [],
   "source": []
  }
 ],
 "metadata": {
  "kernelspec": {
   "display_name": "Python 3",
   "language": "python",
   "name": "python3"
  }
 },
 "nbformat": 4,
 "nbformat_minor": 2
}
